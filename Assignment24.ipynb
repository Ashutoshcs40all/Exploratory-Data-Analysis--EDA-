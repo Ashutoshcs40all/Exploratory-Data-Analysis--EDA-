{
 "cells": [
  {
   "attachments": {},
   "cell_type": "markdown",
   "metadata": {},
   "source": [
    "Q1. What are the key features of the wine quality data set? Discuss the importance of each feature in\n",
    "predicting the quality of wine.\n",
    "\n",
    "    The wine quality dataset contains information about the physicochemical properties of two types of wines, red and white. The dataset consists of 12 input variables and one output variable, which is the quality rating of the wine, ranging from 0 to 10. Here are the key features of the wine quality dataset and their importance in predicting wine quality:\n",
    "\n",
    "    1.) Fixed acidity: This refers to the concentration of fixed acids in the wine, such as tartaric acid, malic acid, and citric acid. Fixed acidity is an important feature in predicting wine quality because it contributes to the wine's taste and balance. Wines with too little acidity taste flat and uninteresting, while wines with too much acidity taste sour and unpalatable.\n",
    "\n",
    "    2.) Volatile acidity: This measures the concentration of volatile acids in the wine, such as acetic acid. Volatile acidity is important in predicting wine quality because high levels of volatile acidity can cause the wine to have a vinegar-like taste, which is undesirable.\n",
    "\n",
    "    3.) Citric acid: This is a weak organic acid that contributes to the wine's freshness and crispness. Citric acid is an important feature in predicting wine quality because it can balance the wine's acidity and add complexity to its flavor profile.\n",
    "\n",
    "    4.) Residual sugar: This refers to the amount of sugar that remains in the wine after fermentation. Residual sugar is an important feature in predicting wine quality because it can affect the wine's sweetness and body.\n",
    "\n",
    "    5.) Chlorides: This measures the concentration of salt in the wine. Chlorides are an important feature in predicting wine quality because they can affect the wine's taste and balance.\n",
    "\n",
    "    6.) Free sulfur dioxide: This is a preservative that helps to prevent the wine from oxidizing and spoiling. Free sulfur dioxide is an important feature in predicting wine quality because it can affect the wine's aroma and flavor.\n",
    "\n",
    "    7.) Total sulfur dioxide: This measures the total amount of sulfur dioxide in the wine, both free and bound. Total sulfur dioxide is an important feature in predicting wine quality because it can affect the wine's stability and shelf life.\n",
    "\n",
    "    8.) Density: This measures the density of the wine, which is related to its alcohol content. Density is an important feature in predicting wine quality because it can affect the wine's body and texture.\n",
    "\n",
    "    9.) pH: This measures the acidity or alkalinity of the wine. pH is an important feature in predicting wine quality because it can affect the wine's taste, balance, and aging potential.\n",
    "\n",
    "    10.) Sulphates: This refers to the concentration of sulfur compounds in the wine, which can act as a preservative and anti-oxidant. Sulphates are an important feature in predicting wine quality because they can affect the wine's aroma and flavor.\n",
    "\n",
    "    11.) Alcohol: This measures the alcohol content of the wine, which is an important feature in predicting wine quality because it can affect the wine's body, texture, and flavor.\n",
    "\n",
    "    12.) Quality: This is the output variable, which measures the overall quality of the wine. Quality is an important feature in predicting wine quality because it is the target variable that we want to predict. The other input variables are used to build a model that can accurately predict wine quality based on their values.\n",
    "\n",
    "    In conclusion, the wine quality dataset contains a range of physicochemical properties that are important in predicting wine quality. By analyzing and modeling these properties, we can build a predictive model that can help us to understand and improve the quality of wine."
   ]
  },
  {
   "attachments": {},
   "cell_type": "markdown",
   "metadata": {},
   "source": [
    "    Q2. How did you handle missing data in the wine quality data set during the feature engineering process? \n",
    "    Discuss the advantages and disadvantages of different imputation techniques.\n",
    "\n",
    "        There are several techniques for handling missing data, and the choice of technique depends on various factors such as the amount and pattern of missing data, the nature of the data, and the analysis objectives. Some of the common techniques for handling missing data include:\n",
    "\n",
    "        1.) Deletion: In this technique, the rows or columns with missing values are deleted from the data set. This technique is simple to implement and does not require any assumptions about the missing data. However, it may result in a loss of information and bias in the analysis if the missing data is not missing completely at random (MCAR).\n",
    "\n",
    "        2.) Mean or median imputation: In this technique, missing values are replaced with the mean or median of the available data. This technique is simple to implement and preserves the sample size. However, it assumes that the missing values are missing at random (MAR) and can result in biased estimates if the missing data is not MAR.\n",
    "\n",
    "        3.) Hot deck imputation: In this technique, missing values are imputed based on values from similar cases in the data set. This technique is more sophisticated than mean or median imputation and can produce better estimates. However, it assumes that the missing data is MCAR or MAR and can be computationally expensive.\n",
    "\n",
    "        4.) Regression imputation: In this technique, missing values are imputed by regressing the variable with missing values on the other variables in the data set. This technique can produce more accurate estimates than mean or median imputation and can handle missing data that is MAR. However, it assumes that the missing data is MAR and can be sensitive to outliers.\n",
    "\n",
    "        5.) Multiple imputation: In this technique, missing values are imputed multiple times to produce several imputed data sets, which are then analyzed using standard methods. This technique is a more sophisticated version of regression imputation and can handle missing data that is MAR or missing not at random (MNAR). However, it can be computationally intensive and requires specifying a model for the imputation process.\n",
    "\n",
    "        The choice of imputation technique depends on the specific characteristics of the missing data and the analysis objectives. While simpler techniques like mean or median imputation are easier to implement, more sophisticated techniques like multiple imputation can produce better estimates and handle missing data that is not missing completely at random. However, it is important to carefully evaluate the assumptions and limitations of each technique before selecting one for your analysis.\n",
    "\n",
    "    Advantages and disadvantages of different imputation techniques for handling missing data:\n",
    "\n",
    "    Deletion:\n",
    "        Advantages:\n",
    "    * Simple and easy to implement\n",
    "    * Does not require any assumptions about the missing data\n",
    "\n",
    "        Disadvantages:\n",
    "    *May result in a loss of information and bias in the analysis if the missing data is not missing completely at random (MCAR)\n",
    "    *Can reduce the sample size, which can affect the power of the analysis\n",
    "\n",
    "    Mean or median imputation:\n",
    "\n",
    "        Advantages:\n",
    "    *Simple and easy to implement\n",
    "    *Preserves the sample size\n",
    "    *Can work well if the missing data is missing at random (MAR)\n",
    "\n",
    "        Disadvantages:\n",
    "    *Can result in biased estimates if the missing data is not MAR\n",
    "    *Can underestimate the standard error of the estimates\n",
    "    *Can create artificial patterns in the data and reduce variability\n",
    "\n",
    "    Hot deck imputation:\n",
    "        \n",
    "        Advantages:\n",
    "    *More sophisticated than mean or median imputation and can produce better estimates\n",
    "    *Can handle missing data that is MAR or MCAR\n",
    "\n",
    "        Disadvantages:\n",
    "    *Can be computationally expensive\n",
    "    *May not work well if there are few similar cases in the data set to impute from\n",
    "\n",
    "    Regression imputation:\n",
    "        \n",
    "        Advantages:\n",
    "    *Can produce more accurate estimates than mean or median imputation\n",
    "    *Can handle missing data that is MAR\n",
    "\n",
    "        Disadvantages:\n",
    "    *Assumes that the missing data is MAR\n",
    "    *Can be sensitive to outliers\n",
    "    *Can be computationally expensive\n",
    "\n",
    "    Multiple imputation:\n",
    "\n",
    "        Advantages:\n",
    "    *Can handle missing data that is MAR or missing not at random (MNAR)\n",
    "    *Produces unbiased estimates and valid standard errors\n",
    "    *Accounts for the uncertainty in the imputation process\n",
    "\n",
    "        Disadvantages:\n",
    "    *Can be computationally intensive\n",
    "    *Requires specifying a model for the imputation process, which may not be straightforward\n",
    "    *Can be sensitive to the assumptions made about the missing data and the imputation model"
   ]
  },
  {
   "attachments": {},
   "cell_type": "markdown",
   "metadata": {},
   "source": [
    "Q3. What are the key factors that affect students' performance in exams? How would you go about\n",
    "analyzing these factors using statistical techniques?\n",
    "\n",
    "    The Student Performance Data set contains information about various factors that may affect a student's performance in exams. Some key factors that may influence a student's academic performance include:\n",
    "\n",
    "    1.) Socioeconomic status: Students from lower socioeconomic backgrounds may have less access to resources such as books, tutors, and technology, which could impact their academic performance.\n",
    "\n",
    "    2.) Parental education level: Students whose parents have higher levels of education may have more support and resources to help them succeed in school.\n",
    "\n",
    "    3.) Gender: Research has shown that there are gender differences in academic performance, with girls often outperforming boys.\n",
    "\n",
    "    4.) Attendance: Regular attendance is an important predictor of academic success, as students who miss school are likely to miss out on important material and fall behind.\n",
    "\n",
    "    5.) Study habits: Students who have good study habits and time management skills are more likely to perform well academically.\n",
    "\n",
    "    To analyze the factors that affect students' performance in exams using statistical techniques, we could use a combination of exploratory data analysis (EDA) and inferential statistics. Here are some steps that could be taken:\n",
    "\n",
    "    1.) First, we would need to clean and preprocess the data, checking for missing values and outliers.\n",
    "\n",
    "    2.) Next, we could use EDA techniques such as scatter plots and correlation matrices to explore the relationships between the various factors and academic performance. For example, we could examine the correlation between parental education level and student grades.\n",
    "\n",
    "    3.) To test the significance of these relationships, we could use inferential statistical techniques such as regression analysis. For example, we could build a linear regression model to examine the relationship between socioeconomic status and academic performance, controlling for other factors such as parental education level and attendance.\n",
    "\n",
    "    4.) We could also use hypothesis testing to determine if there are significant differences in academic performance between different groups, such as male and female students.\n",
    "\n",
    "    5.) Finally, we could use machine learning techniques such as decision trees or random forests to build predictive models that could help identify students who are at risk of underperforming and may require additional support.\n",
    "\n",
    "    Overall, analyzing the factors that affect students' performance in exams using statistical techniques requires a combination of data preprocessing, exploratory data analysis, and inferential statistics. By understanding the key factors that impact academic performance, educators can develop targeted interventions to support students and improve their outcomes."
   ]
  },
  {
   "attachments": {},
   "cell_type": "markdown",
   "metadata": {},
   "source": [
    "Q4. Describe the process of feature engineering in the context of the student performance data set. How did you select and transform the variables for your model?\n",
    "\n",
    "    Feature engineering is the process of selecting and transforming raw data into meaningful features that can be used to build predictive models. In the context of the student performance data set, feature engineering involves selecting the most relevant variables and transforming them into features that can be used to predict a student's academic performance.\n",
    "\n",
    "    Here are the steps that could be taken in the process of feature engineering for the student performance data set:\n",
    "\n",
    "    1.) Select the relevant variables: The first step in feature engineering is to select the variables that are most relevant to the task at hand. In the case of the student performance data set, relevant variables could include parental education level, student attendance, and study time.\n",
    "\n",
    "    2.) Transform the variables: Once the relevant variables have been selected, they may need to be transformed to make them more useful for predictive modeling. For example, the \"parental education level\" variable could be transformed into a binary variable indicating whether or not the student's parents have a college degree. Similarly, the \"study time\" variable could be transformed into a categorical variable indicating low, medium, or high study time.\n",
    "\n",
    "    3.) Create new features: In addition to transforming existing variables, new features can be created to capture additional information that may be relevant for predicting academic performance. For example, a new feature could be created to capture the student's overall level of engagement in school, which could be calculated as a weighted average of attendance, study time, and extracurricular activities.\n",
    "\n",
    "    4.) Encode categorical variables: Categorical variables need to be encoded numerically before they can be used in predictive models. This can be done using techniques such as one-hot encoding or ordinal encoding.\n",
    "\n",
    "    5.) Select features for the model: Once all of the features have been created and transformed, a subset of the most relevant features can be selected for use in the predictive model. This can be done using techniques such as correlation analysis, feature importance ranking, or stepwise regression.\n",
    "\n",
    "    In summary, the process of feature engineering in the context of the student performance data set involves selecting the most relevant variables, transforming them into meaningful features, and selecting a subset of features for use in the predictive model. By carefully engineering features, we can improve the accuracy and interpretability of the predictive model and gain insights into the factors that impact academic performance."
   ]
  },
  {
   "attachments": {},
   "cell_type": "markdown",
   "metadata": {},
   "source": [
    "Q5. Load the wine quality data set and perform exploratory data analysis (EDA) to identify the distribution of each feature. Which feature(s) exhibit non-normality, and what transformations could be applied to these features to improve normality?\n"
   ]
  },
  {
   "cell_type": "code",
   "execution_count": 5,
   "metadata": {},
   "outputs": [
    {
     "data": {
      "image/png": "[encoded data removed]",
      "text/plain": [
       "<Figure size 1440x1080 with 12 Axes>"
      ]
     },
     "metadata": {
      "needs_background": "light"
     },
     "output_type": "display_data"
    }
   ],
   "source": [
    "import pandas as pd\n",
    "import matplotlib.pyplot as plt\n",
    "\n",
    "# Load the data\n",
    "wine_df = pd.read_csv('winequality-red.csv')\n",
    "\n",
    "# Create histograms of each feature\n",
    "wine_df.hist(bins=20, figsize=(20,15))\n",
    "plt.show()\n"
   ]
  },
  {
   "cell_type": "code",
   "execution_count": 6,
   "metadata": {},
   "outputs": [
    {
     "data": {
      "text/html": [
       "<div>\n",
       "<style scoped>\n",
       "    .dataframe tbody tr th:only-of-type {\n",
       "        vertical-align: middle;\n",
       "    }\n",
       "\n",
       "    .dataframe tbody tr th {\n",
       "        vertical-align: top;\n",
       "    }\n",
       "\n",
       "    .dataframe thead th {\n",
       "        text-align: right;\n",
       "    }\n",
       "</style>\n",
       "<table border=\"1\" class=\"dataframe\">\n",
       "  <thead>\n",
       "    <tr style=\"text-align: right;\">\n",
       "      <th></th>\n",
       "      <th>fixed acidity</th>\n",
       "      <th>volatile acidity</th>\n",
       "      <th>citric acid</th>\n",
       "      <th>residual sugar</th>\n",
       "      <th>chlorides</th>\n",
       "      <th>free sulfur dioxide</th>\n",
       "      <th>total sulfur dioxide</th>\n",
       "      <th>density</th>\n",
       "      <th>pH</th>\n",
       "      <th>sulphates</th>\n",
       "      <th>alcohol</th>\n",
       "      <th>quality</th>\n",
       "    </tr>\n",
       "  </thead>\n",
       "  <tbody>\n",
       "    <tr>\n",
       "      <th>0</th>\n",
       "      <td>7.4</td>\n",
       "      <td>0.70</td>\n",
       "      <td>0.00</td>\n",
       "      <td>1.9</td>\n",
       "      <td>0.076</td>\n",
       "      <td>11.0</td>\n",
       "      <td>34.0</td>\n",
       "      <td>0.9978</td>\n",
       "      <td>3.51</td>\n",
       "      <td>0.56</td>\n",
       "      <td>9.4</td>\n",
       "      <td>5</td>\n",
       "    </tr>\n",
       "    <tr>\n",
       "      <th>1</th>\n",
       "      <td>7.8</td>\n",
       "      <td>0.88</td>\n",
       "      <td>0.00</td>\n",
       "      <td>2.6</td>\n",
       "      <td>0.098</td>\n",
       "      <td>25.0</td>\n",
       "      <td>67.0</td>\n",
       "      <td>0.9968</td>\n",
       "      <td>3.20</td>\n",
       "      <td>0.68</td>\n",
       "      <td>9.8</td>\n",
       "      <td>5</td>\n",
       "    </tr>\n",
       "    <tr>\n",
       "      <th>2</th>\n",
       "      <td>7.8</td>\n",
       "      <td>0.76</td>\n",
       "      <td>0.04</td>\n",
       "      <td>2.3</td>\n",
       "      <td>0.092</td>\n",
       "      <td>15.0</td>\n",
       "      <td>54.0</td>\n",
       "      <td>0.9970</td>\n",
       "      <td>3.26</td>\n",
       "      <td>0.65</td>\n",
       "      <td>9.8</td>\n",
       "      <td>5</td>\n",
       "    </tr>\n",
       "    <tr>\n",
       "      <th>3</th>\n",
       "      <td>11.2</td>\n",
       "      <td>0.28</td>\n",
       "      <td>0.56</td>\n",
       "      <td>1.9</td>\n",
       "      <td>0.075</td>\n",
       "      <td>17.0</td>\n",
       "      <td>60.0</td>\n",
       "      <td>0.9980</td>\n",
       "      <td>3.16</td>\n",
       "      <td>0.58</td>\n",
       "      <td>9.8</td>\n",
       "      <td>6</td>\n",
       "    </tr>\n",
       "    <tr>\n",
       "      <th>4</th>\n",
       "      <td>7.4</td>\n",
       "      <td>0.70</td>\n",
       "      <td>0.00</td>\n",
       "      <td>1.9</td>\n",
       "      <td>0.076</td>\n",
       "      <td>11.0</td>\n",
       "      <td>34.0</td>\n",
       "      <td>0.9978</td>\n",
       "      <td>3.51</td>\n",
       "      <td>0.56</td>\n",
       "      <td>9.4</td>\n",
       "      <td>5</td>\n",
       "    </tr>\n",
       "  </tbody>\n",
       "</table>\n",
       "</div>"
      ],
      "text/plain": [
       "   fixed acidity  volatile acidity  citric acid  residual sugar  chlorides  \\\n",
       "0            7.4              0.70         0.00             1.9      0.076   \n",
       "1            7.8              0.88         0.00             2.6      0.098   \n",
       "2            7.8              0.76         0.04             2.3      0.092   \n",
       "3           11.2              0.28         0.56             1.9      0.075   \n",
       "4            7.4              0.70         0.00             1.9      0.076   \n",
       "\n",
       "   free sulfur dioxide  total sulfur dioxide  density    pH  sulphates  \\\n",
       "0                 11.0                  34.0   0.9978  3.51       0.56   \n",
       "1                 25.0                  67.0   0.9968  3.20       0.68   \n",
       "2                 15.0                  54.0   0.9970  3.26       0.65   \n",
       "3                 17.0                  60.0   0.9980  3.16       0.58   \n",
       "4                 11.0                  34.0   0.9978  3.51       0.56   \n",
       "\n",
       "   alcohol  quality  \n",
       "0      9.4        5  \n",
       "1      9.8        5  \n",
       "2      9.8        5  \n",
       "3      9.8        6  \n",
       "4      9.4        5  "
      ]
     },
     "execution_count": 6,
     "metadata": {},
     "output_type": "execute_result"
    }
   ],
   "source": [
    "wine_df.head(5)"
   ]
  },
  {
   "attachments": {},
   "cell_type": "markdown",
   "metadata": {},
   "source": [
    "Q6. Using the wine quality data set, perform principal component analysis (PCA) to reduce the number of \n",
    "features. What is the minimum number of principal components required to explain 90% of the variance in \n",
    "the data?\n",
    "\n",
    "    To perform principal component analysis (PCA) on the wine quality dataset, we first need to preprocess the data by scaling the features so that they have zero mean and unit variance. We can use the StandardScaler class from the scikit-learn library"
   ]
  },
  {
   "cell_type": "code",
   "execution_count": 8,
   "metadata": {},
   "outputs": [],
   "source": [
    "import pandas as pd\n",
    "from sklearn.preprocessing import StandardScaler\n",
    "from sklearn.decomposition import PCA\n",
    "\n",
    "# Load the dataset\n",
    "df = pd.read_csv('winequality-red.csv')\n",
    "\n",
    "# Split the data into features and target variables\n",
    "X = df.drop(['quality'], axis=1).values\n",
    "\n",
    "# Scale the features\n",
    "scaler = StandardScaler()\n",
    "X = scaler.fit_transform(X)"
   ]
  },
  {
   "cell_type": "code",
   "execution_count": 9,
   "metadata": {},
   "outputs": [
    {
     "data": {
      "text/html": [
       "<style>#sk-container-id-1 {color: black;background-color: white;}#sk-container-id-1 pre{padding: 0;}#sk-container-id-1 div.sk-toggleable {background-color: white;}#sk-container-id-1 label.sk-toggleable__label {cursor: pointer;display: block;width: 100%;margin-bottom: 0;padding: 0.3em;box-sizing: border-box;text-align: center;}#sk-container-id-1 label.sk-toggleable__label-arrow:before {content: \"▸\";float: left;margin-right: 0.25em;color: #696969;}#sk-container-id-1 label.sk-toggleable__label-arrow:hover:before {color: black;}#sk-container-id-1 div.sk-estimator:hover label.sk-toggleable__label-arrow:before {color: black;}#sk-container-id-1 div.sk-toggleable__content {max-height: 0;max-width: 0;overflow: hidden;text-align: left;background-color: #f0f8ff;}#sk-container-id-1 div.sk-toggleable__content pre {margin: 0.2em;color: black;border-radius: 0.25em;background-color: #f0f8ff;}#sk-container-id-1 input.sk-toggleable__control:checked~div.sk-toggleable__content {max-height: 200px;max-width: 100%;overflow: auto;}#sk-container-id-1 input.sk-toggleable__control:checked~label.sk-toggleable__label-arrow:before {content: \"▾\";}#sk-container-id-1 div.sk-estimator input.sk-toggleable__control:checked~label.sk-toggleable__label {background-color: #d4ebff;}#sk-container-id-1 div.sk-label input.sk-toggleable__control:checked~label.sk-toggleable__label {background-color: #d4ebff;}#sk-container-id-1 input.sk-hidden--visually {border: 0;clip: rect(1px 1px 1px 1px);clip: rect(1px, 1px, 1px, 1px);height: 1px;margin: -1px;overflow: hidden;padding: 0;position: absolute;width: 1px;}#sk-container-id-1 div.sk-estimator {font-family: monospace;background-color: #f0f8ff;border: 1px dotted black;border-radius: 0.25em;box-sizing: border-box;margin-bottom: 0.5em;}#sk-container-id-1 div.sk-estimator:hover {background-color: #d4ebff;}#sk-container-id-1 div.sk-parallel-item::after {content: \"\";width: 100%;border-bottom: 1px solid gray;flex-grow: 1;}#sk-container-id-1 div.sk-label:hover label.sk-toggleable__label {background-color: #d4ebff;}#sk-container-id-1 div.sk-serial::before {content: \"\";position: absolute;border-left: 1px solid gray;box-sizing: border-box;top: 0;bottom: 0;left: 50%;z-index: 0;}#sk-container-id-1 div.sk-serial {display: flex;flex-direction: column;align-items: center;background-color: white;padding-right: 0.2em;padding-left: 0.2em;position: relative;}#sk-container-id-1 div.sk-item {position: relative;z-index: 1;}#sk-container-id-1 div.sk-parallel {display: flex;align-items: stretch;justify-content: center;background-color: white;position: relative;}#sk-container-id-1 div.sk-item::before, #sk-container-id-1 div.sk-parallel-item::before {content: \"\";position: absolute;border-left: 1px solid gray;box-sizing: border-box;top: 0;bottom: 0;left: 50%;z-index: -1;}#sk-container-id-1 div.sk-parallel-item {display: flex;flex-direction: column;z-index: 1;position: relative;background-color: white;}#sk-container-id-1 div.sk-parallel-item:first-child::after {align-self: flex-end;width: 50%;}#sk-container-id-1 div.sk-parallel-item:last-child::after {align-self: flex-start;width: 50%;}#sk-container-id-1 div.sk-parallel-item:only-child::after {width: 0;}#sk-container-id-1 div.sk-dashed-wrapped {border: 1px dashed gray;margin: 0 0.4em 0.5em 0.4em;box-sizing: border-box;padding-bottom: 0.4em;background-color: white;}#sk-container-id-1 div.sk-label label {font-family: monospace;font-weight: bold;display: inline-block;line-height: 1.2em;}#sk-container-id-1 div.sk-label-container {text-align: center;}#sk-container-id-1 div.sk-container {/* jupyter's `normalize.less` sets `[hidden] { display: none; }` but bootstrap.min.css set `[hidden] { display: none !important; }` so we also need the `!important` here to be able to override the default hidden behavior on the sphinx rendered scikit-learn.org. See: https://github.com/scikit-learn/scikit-learn/issues/21755 */display: inline-block !important;position: relative;}#sk-container-id-1 div.sk-text-repr-fallback {display: none;}</style><div id=\"sk-container-id-1\" class=\"sk-top-container\"><div class=\"sk-text-repr-fallback\"><pre>PCA()</pre><b>In a Jupyter environment, please rerun this cell to show the HTML representation or trust the notebook. <br />On GitHub, the HTML representation is unable to render, please try loading this page with nbviewer.org.</b></div><div class=\"sk-container\" hidden><div class=\"sk-item\"><div class=\"sk-estimator sk-toggleable\"><input class=\"sk-toggleable__control sk-hidden--visually\" id=\"sk-estimator-id-1\" type=\"checkbox\" checked><label for=\"sk-estimator-id-1\" class=\"sk-toggleable__label sk-toggleable__label-arrow\">PCA</label><div class=\"sk-toggleable__content\"><pre>PCA()</pre></div></div></div></div></div>"
      ],
      "text/plain": [
       "PCA()"
      ]
     },
     "execution_count": 9,
     "metadata": {},
     "output_type": "execute_result"
    }
   ],
   "source": [
    "# we can perform PCA by creating an instance of the PCA class and calling its fit() method:\n",
    "# Perform PCA\n",
    "pca = PCA()\n",
    "pca.fit(X)\n"
   ]
  },
  {
   "cell_type": "code",
   "execution_count": 10,
   "metadata": {},
   "outputs": [
    {
     "name": "stdout",
     "output_type": "stream",
     "text": [
      "[0.28173931 0.1750827  0.1409585  0.11029387 0.08720837 0.05996439\n",
      " 0.05307193 0.03845061 0.0313311  0.01648483 0.00541439]\n"
     ]
    }
   ],
   "source": [
    "# After fitting the PCA model to the data, we can examine the explained variance ratio of each principal \n",
    "#component by accessing the explained_variance_ratio_ attribute of the PCA object:\n",
    "# Get the explained variance ratio of each principal component\n",
    "explained_variance_ratio = pca.explained_variance_ratio_\n",
    "print(explained_variance_ratio)\n"
   ]
  },
  {
   "attachments": {},
   "cell_type": "markdown",
   "metadata": {},
   "source": [
    "    To determine the minimum number of principal components required to explain 90% of the variance in the data, we can use the cumulative sum of the explained variance ratios and find the index of the first element that exceeds 0.9"
   ]
  },
  {
   "cell_type": "code",
   "execution_count": 11,
   "metadata": {},
   "outputs": [
    {
     "name": "stdout",
     "output_type": "stream",
     "text": [
      "7\n"
     ]
    }
   ],
   "source": [
    "# Get the cumulative sum of the explained variance ratios\n",
    "import numpy as np\n",
    "cumulative_variance_ratio = np.cumsum(explained_variance_ratio)\n",
    "\n",
    "# Get the minimum number of principal components required to explain 90% of the variance\n",
    "n_components = np.argmax(cumulative_variance_ratio >= 0.9) + 1\n",
    "print(n_components)\n"
   ]
  },
  {
   "attachments": {},
   "cell_type": "markdown",
   "metadata": {},
   "source": [
    "    Therefore, we need to retain at least 7 principal components to explain 90% of the variance in the data."
   ]
  }
 ],
 "metadata": {
  "kernelspec": {
   "display_name": "Python 3",
   "language": "python",
   "name": "python3"
  },
  "language_info": {
   "codemirror_mode": {
    "name": "ipython",
    "version": 3
   },
   "file_extension": ".py",
   "mimetype": "text/x-python",
   "name": "python",
   "nbconvert_exporter": "python",
   "pygments_lexer": "ipython3",
   "version": "3.9.10"
  },
  "orig_nbformat": 4
 },
 "nbformat": 4,
 "nbformat_minor": 2
}
